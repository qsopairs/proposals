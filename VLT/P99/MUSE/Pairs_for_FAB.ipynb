{
 "cells": [
  {
   "cell_type": "markdown",
   "metadata": {},
   "source": [
    "# List of $z>3$ pairs for FAB\n",
    "\n",
    "## For a VLT P99 proposal"
   ]
  },
  {
   "cell_type": "code",
   "execution_count": 1,
   "metadata": {
    "collapsed": true
   },
   "outputs": [],
   "source": [
    "# imports\n",
    "from enigma.qpq import qpq as eqpq"
   ]
  },
  {
   "cell_type": "code",
   "execution_count": 2,
   "metadata": {
    "collapsed": false
   },
   "outputs": [
    {
     "name": "stdout",
     "output_type": "stream",
     "text": [
      "Reading /Users/xavier/local/Python/enigma/enigma/data/qpq/qpq7_pairs.fits.gz\n"
     ]
    }
   ],
   "source": [
    "reload(eqpq)\n",
    "qpq7 = eqpq.QPQ('QPQ7')"
   ]
  },
  {
   "cell_type": "code",
   "execution_count": 5,
   "metadata": {
    "collapsed": false
   },
   "outputs": [
    {
     "data": {
      "text/plain": [
       "2"
      ]
     },
     "execution_count": 5,
     "metadata": {},
     "output_type": "execute_result"
    }
   ],
   "source": [
    "cut = (qpq7.data['Z_BG']>3.) & (qpq7.data['Z_FG']>3.) & (qpq7.data['R_PHYS']<200.)\n",
    "np.sum(cut)"
   ]
  },
  {
   "cell_type": "code",
   "execution_count": 6,
   "metadata": {
    "collapsed": false
   },
   "outputs": [
    {
     "data": {
      "text/html": [
       "&lt;Table length=2&gt;\n",
       "<table id=\"table4596198416\">\n",
       "<thead><tr><th>DATE</th><th>QPQ_SAVFIL</th><th>QSO</th><th>RAD</th><th>DECD</th><th>QSO_BG</th><th>RAD_BG</th><th>DECD_BG</th><th>ORIG_Z_FG</th><th>Z_FG</th><th>Z_FSIG</th><th>Z_BG</th><th>R_PHYS</th><th>FLG_BOSS</th><th>LYA_INSTR</th><th>LYA_FIL</th><th>INFLG_LYAFIL</th><th>S2N_LYA</th><th>FLG_OTHICK</th><th>Z_LYA</th><th>EWLYA</th><th>SIG_EWLYA</th><th>FLG_EWLYA</th><th>VEW [5]</th><th>VEWLYA [5]</th><th>SIG_VEWLYA [5]</th><th>AVGFLYA [5]</th><th>DELTFLYA [5]</th><th>Z_NHI</th><th>NHI</th><th>SIG_NHI [2]</th><th>FLG_NHI</th><th>FLG_METAL_EW [100]</th><th>FLG_METAL_EYE [100]</th><th>METAL_WREST [100]</th><th>RAW_METAL_EW [100]</th><th>METAL_EW [100]</th><th>METAL_SIGEW [100]</th><th>METAL_S2N [100]</th><th>METAL_VCEN [100]</th><th>L_912</th><th>G_UV</th><th>L_BOL</th><th>RA</th><th>DEC</th><th>NAME</th></tr></thead>\n",
       "<thead><tr><th>str24</th><th>str85</th><th>str14</th><th>float64</th><th>float64</th><th>str14</th><th>float64</th><th>float64</th><th>float32</th><th>float64</th><th>float64</th><th>float64</th><th>float32</th><th>int16</th><th>str9</th><th>str47</th><th>int16</th><th>float32</th><th>int16</th><th>float64</th><th>float32</th><th>float32</th><th>int16</th><th>float32</th><th>float32</th><th>float32</th><th>float32</th><th>float32</th><th>float32</th><th>float32</th><th>float32</th><th>int16</th><th>int16</th><th>int16</th><th>float64</th><th>float32</th><th>float32</th><th>float32</th><th>float32</th><th>float32</th><th>float32</th><th>float32</th><th>float32</th><th>float64</th><th>float64</th><th>unicode19</th></tr></thead>\n",
       "<tr><td>Fri Oct  3 05:05:57 2014</td><td>~/Dropbox/QSOPairs/QPQ-CGM_v5_4_45/QPQ-CGM_00.000-01.000_Sun-Jan-27-18:18:57-2013.sav</td><td>APOJ0851+1655</td><td>132.999546613</td><td>16.9262808155</td><td>SDSSJ0851+1655</td><td>132.996110316</td><td>16.925709627</td><td>3.224</td><td>3.22837114334</td><td>794.259338379</td><td>3.63990116119</td><td>94.4</td><td>0</td><td>GMOS-DLA</td><td>/data/MAGE_redux/SDSSJ091046.68+041448.3_F.fits</td><td>2</td><td>39.1649</td><td>1</td><td>3.2230438635</td><td>2.1197</td><td>0.0517563</td><td>2</td><td>150.0 .. 0.0</td><td>0.848909 .. 0.0</td><td>0.0294117 .. 0.0</td><td>0.0 .. 0.0</td><td>1.0 .. 0.0</td><td>3.22228</td><td>19.0</td><td>0.2 .. 0.2</td><td>3</td><td>0 .. 0</td><td>0 .. 0</td><td>1302.16845703 .. 0.0</td><td>0.0 .. 0.0</td><td>0.0 .. 0.0</td><td>0.0 .. 0.0</td><td>0.0 .. 0.0</td><td>0.0 .. 0.0</td><td>30.1034</td><td>2097.57</td><td>46.093</td><td>132.996110316</td><td>16.925709627</td><td>J085159.07+165532.6</td></tr>\n",
       "<tr><td>Fri Oct  3 05:05:57 2014</td><td>~/Dropbox/QSOPairs/QPQ-CGM_v5_4_45/QPQ-CGM_00.000-01.000_Sun-Jan-27-18:18:57-2013.sav</td><td>APOJ1141+0724</td><td>175.442446594</td><td>7.40305294828</td><td>APOJ1141+0724</td><td>175.439280899</td><td>7.40646418179</td><td>3.537</td><td>3.5510532856</td><td>792.381164551</td><td>3.78900003433</td><td>127.141</td><td>0</td><td>GMOS-DLA</td><td>/data/MAGE_redux/SDSSJ091046.68+041448.3_F.fits</td><td>2</td><td>35.211</td><td>1</td><td>3.54736256938</td><td>5.62536</td><td>0.063998</td><td>2</td><td>150.0 .. 0.0</td><td>1.23037 .. 0.0</td><td>0.0308086 .. 0.0</td><td>0.0 .. 0.0</td><td>1.0 .. 0.0</td><td>3.54724</td><td>20.0</td><td>0.35 .. 0.35</td><td>1</td><td>0 .. 0</td><td>0 .. 0</td><td>1302.16845703 .. 0.0</td><td>0.0 .. 0.0</td><td>0.0 .. 0.0</td><td>0.0 .. 0.0</td><td>0.0 .. 0.0</td><td>0.0 .. 0.0</td><td>30.4732</td><td>2959.88</td><td>46.519</td><td>175.439280899</td><td>7.40646418179</td><td>J114145.43+072423.3</td></tr>\n",
       "</table>"
      ],
      "text/plain": [
       "<Table length=2>\n",
       "          DATE           ...         NAME       \n",
       "         str24           ...      unicode19     \n",
       "------------------------ ... -------------------\n",
       "Fri Oct  3 05:05:57 2014 ... J085159.07+165532.6\n",
       "Fri Oct  3 05:05:57 2014 ... J114145.43+072423.3"
      ]
     },
     "execution_count": 6,
     "metadata": {},
     "output_type": "execute_result"
    }
   ],
   "source": [
    "qpq7.data[cut]"
   ]
  },
  {
   "cell_type": "code",
   "execution_count": null,
   "metadata": {
    "collapsed": true
   },
   "outputs": [],
   "source": []
  }
 ],
 "metadata": {
  "kernelspec": {
   "display_name": "Python 2",
   "language": "python",
   "name": "python2"
  },
  "language_info": {
   "codemirror_mode": {
    "name": "ipython",
    "version": 2
   },
   "file_extension": ".py",
   "mimetype": "text/x-python",
   "name": "python",
   "nbconvert_exporter": "python",
   "pygments_lexer": "ipython2",
   "version": "2.7.11"
  }
 },
 "nbformat": 4,
 "nbformat_minor": 0
}
